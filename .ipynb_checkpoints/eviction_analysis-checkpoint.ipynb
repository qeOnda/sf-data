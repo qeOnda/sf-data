{
 "cells": [
  {
   "cell_type": "markdown",
   "metadata": {},
   "source": [
    "#Analysing Eviction Notices in San Francisco  "
   ]
  },
  {
   "cell_type": "markdown",
   "metadata": {},
   "source": [
    "This notebook is the final assignment given to Standford University's Programming in Journalism class - the course repository can be found [here](https://github.com/stanfordjournalism/stanford-progj-2020). \n",
    "For this task, I will be analysing data on eviction notices in San Francisco between 2010 to 2020. I will be using the following tools to accomplish this task:\n",
    "* [Jupyter Notebook](https://jupyter.org/)\n",
    "* [Pandas](https://pandas.pydata.org/)\n",
    "\n",
    "The first step will be importing the above libraries."
   ]
  },
  {
   "cell_type": "code",
   "execution_count": 1,
   "metadata": {},
   "outputs": [],
   "source": [
    "import pandas as pd\n",
    "import numpy as np"
   ]
  },
  {
   "cell_type": "markdown",
   "metadata": {},
   "source": [
    "##Loading the data\n",
    "The eviction notice data is taken from [DataSF](https://datasf.org/) as per the requirments of this assignment (details of this assignment can be found [here](https://github.com/stanfordjournalism/stanford-progj-2020/blob/master/projects/sf_data_analysis.md))."
   ]
  }
 ],
 "metadata": {
  "kernelspec": {
   "display_name": "Python 3",
   "language": "python",
   "name": "python3"
  },
  "language_info": {
   "codemirror_mode": {
    "name": "ipython",
    "version": 3
   },
   "file_extension": ".py",
   "mimetype": "text/x-python",
   "name": "python",
   "nbconvert_exporter": "python",
   "pygments_lexer": "ipython3",
   "version": "3.8.2"
  }
 },
 "nbformat": 4,
 "nbformat_minor": 4
}
